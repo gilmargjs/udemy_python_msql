{
  "nbformat": 4,
  "nbformat_minor": 0,
  "metadata": {
    "colab": {
      "name": "udemy_zip.py",
      "provenance": [],
      "collapsed_sections": [],
      "authorship_tag": "ABX9TyMGCLnjw3B63Sb+WuL1nPaz",
      "include_colab_link": true
    },
    "kernelspec": {
      "name": "python3",
      "display_name": "Python 3"
    }
  },
  "cells": [
    {
      "cell_type": "markdown",
      "metadata": {
        "id": "view-in-github",
        "colab_type": "text"
      },
      "source": [
        "<a href=\"https://colab.research.google.com/github/gilmargjs/udemy_python_msql/blob/main/udemy_zip_py.ipynb\" target=\"_parent\"><img src=\"https://colab.research.google.com/assets/colab-badge.svg\" alt=\"Open In Colab\"/></a>"
      ]
    },
    {
      "cell_type": "code",
      "metadata": {
        "colab": {
          "base_uri": "https://localhost:8080/"
        },
        "id": "tBTmPqoFCRRT",
        "outputId": "2810d81d-4b53-4b9e-dd2b-9f4de0efc1f6"
      },
      "source": [
        "#zip\n",
        "lista1 = [1,2,3,4,5,]\n",
        "lista2 = [\"abacate\",\"bola\",\"cachorro\",\"dinheiro\",\"elefante\"]\n",
        "lista3 = [\" R$ 2,00\",\" R$ 5,00\",\" R$ 10,00\",\" R$ 15,00\",\" R$ 50,00\"] \n",
        "\n",
        "for numero, nome, valor in zip(lista1,lista2,lista3):#loop nas listas e concatena as tres listas\n",
        "  print(numero, nome, valor)"
      ],
      "execution_count": null,
      "outputs": [
        {
          "output_type": "stream",
          "text": [
            "1 abacate  R$ 2,00\n",
            "2 bola  R$ 5,00\n",
            "3 cachorro  R$ 10,00\n",
            "4 dinheiro  R$ 15,00\n",
            "5 elefante  R$ 50,00\n"
          ],
          "name": "stdout"
        }
      ]
    }
  ]
}