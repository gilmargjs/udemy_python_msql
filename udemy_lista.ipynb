{
  "nbformat": 4,
  "nbformat_minor": 0,
  "metadata": {
    "colab": {
      "name": "udemy_lista",
      "provenance": [],
      "collapsed_sections": [],
      "authorship_tag": "ABX9TyOtw1v8yc4Y/2ln1A5bbP47",
      "include_colab_link": true
    },
    "kernelspec": {
      "name": "python3",
      "display_name": "Python 3"
    }
  },
  "cells": [
    {
      "cell_type": "markdown",
      "metadata": {
        "id": "view-in-github",
        "colab_type": "text"
      },
      "source": [
        "<a href=\"https://colab.research.google.com/github/gilmargjs/udemy_python_msql/blob/main/udemy_lista.ipynb\" target=\"_parent\"><img src=\"https://colab.research.google.com/assets/colab-badge.svg\" alt=\"Open In Colab\"/></a>"
      ]
    },
    {
      "cell_type": "code",
      "metadata": {
        "colab": {
          "base_uri": "https://localhost:8080/"
        },
        "id": "bsthUbkknQXV",
        "outputId": "f5c98d70-5efa-4b56-8d3b-0fe4cf91b32a"
      },
      "source": [
        "# -*- coding: utf-8 -*-\n",
        "minha_lista = [\"abacaxi\",\"melancia\",\"abacate\"]\n",
        "minha_lista2 = [1, 2, 3, 4, 5]\n",
        "minha_lista3 = [\"abacaxi\", 2, 9.89, True]\n",
        "\n",
        "minha_lista.append(\"limão\") # adicionando item a lista\n",
        "print(minha_lista)\n",
        "\n",
        "minha_lista2.append(\"gilmar\")# adicionando item a lista\n",
        "print(minha_lista2)\n",
        "\n",
        "minha_lista3.append(False)# adicionando item a lista\n",
        "print(minha_lista3)"
      ],
      "execution_count": null,
      "outputs": [
        {
          "output_type": "stream",
          "text": [
            "['abacaxi', 'melancia', 'abacate', 'limão']\n",
            "[1, 2, 3, 4, 5, 'gilmar']\n",
            "['abacaxi', 2, 9.89, True, False]\n"
          ],
          "name": "stdout"
        }
      ]
    },
    {
      "cell_type": "code",
      "metadata": {
        "colab": {
          "base_uri": "https://localhost:8080/"
        },
        "id": "ej8mqO7-phlv",
        "outputId": "b8ce71c6-b51d-4e8b-bea1-2e4439d9e622"
      },
      "source": [
        "# verificando item.\n",
        "\n",
        "# -*- coding: utf-8 -*-\n",
        "minha_lista = [\"abacaxi\",\"melancia\",\"abacate\"]\n",
        "minha_lista2 = [1, 2, 3, 4, 5]\n",
        "minha_lista3 = [\"abacaxi\", 2, 9.89, True]\n",
        "\n",
        "if 4 in minha_lista2: # verificar se item está na lista\n",
        "  print(\"4 está na lista\")\n"
      ],
      "execution_count": null,
      "outputs": [
        {
          "output_type": "stream",
          "text": [
            "4 está na lista\n"
          ],
          "name": "stdout"
        }
      ]
    },
    {
      "cell_type": "code",
      "metadata": {
        "colab": {
          "base_uri": "https://localhost:8080/"
        },
        "id": "GPi1a9LRqTuT",
        "outputId": "b2541731-9856-4551-86ca-870f963d2d33"
      },
      "source": [
        "# remover item.\n",
        "\n",
        "minha_lista3 = [\"abacaxi\", 2, 9.89, True]\n",
        "\n",
        "del minha_lista3[2] # removendo item da posiçaõ 2 da  lista3 \n",
        "print(minha_lista3)\n",
        "\n",
        "del minha_lista3[2:] # removendo item da lista3 da posição 2 ate o final\n",
        "print(minha_lista3)\n"
      ],
      "execution_count": null,
      "outputs": [
        {
          "output_type": "stream",
          "text": [
            "['abacaxi', 2, True]\n",
            "['abacaxi', 2]\n"
          ],
          "name": "stdout"
        }
      ]
    },
    {
      "cell_type": "code",
      "metadata": {
        "colab": {
          "base_uri": "https://localhost:8080/"
        },
        "id": "iOipvNgWrUkt",
        "outputId": "a23e08fe-59a4-42a0-a11a-7ac7d8d16e77"
      },
      "source": [
        "# criar lista em branco.\n",
        "# adicionando itens.\n",
        "\n",
        "minha_lista4 = []  # criando lista em branco\n",
        "print(minha_lista4)\n",
        "\n",
        "# obs: adicionar 1 item de cada  vez\n",
        "\n",
        "minha_lista4.append(\"verdura\") # adicionando irens na lista\n",
        "print(minha_lista4)\n",
        "\n",
        "minha_lista4.append(\"frutas\") # adicionando irens na lista\n",
        "print(minha_lista4)\n",
        "\n",
        "\n",
        "minha_lista4.append(\"carros\") # adicionando irens na lista\n",
        "print(minha_lista4)\n",
        "\n"
      ],
      "execution_count": null,
      "outputs": [
        {
          "output_type": "stream",
          "text": [
            "[]\n",
            "['verdura']\n",
            "['verdura', 'frutas']\n",
            "['verdura', 'frutas', 'carros']\n"
          ],
          "name": "stdout"
        }
      ]
    },
    {
      "cell_type": "code",
      "metadata": {
        "colab": {
          "base_uri": "https://localhost:8080/"
        },
        "id": "MWAI5Z6Lt0Gl",
        "outputId": "8633b3ea-da4f-4bcc-d022-74b553dac2f0"
      },
      "source": [
        "# ordenando listas\n",
        "\n",
        "valores = [124,345,72,46,6,7,3,1,7]\n",
        "valores.sort() # ordena a lista só altera obs: não retorna nenhum valor\n",
        "print(valores)\n",
        "\n",
        "# para retorna uma nova lista\n",
        "\n",
        "valores1 = sorted(valores) # retorna uma nova lista ordenada.\n",
        "print(valores1)\n",
        "\n",
        "valores.sort(reverse=True) # ordena a lista de traz pra frente\n",
        "print(valores)\n",
        "\n",
        "valores.reverse() # reverte o ultimo estado da lista \n",
        "print(valores)\n",
        "\n"
      ],
      "execution_count": null,
      "outputs": [
        {
          "output_type": "stream",
          "text": [
            "[1, 3, 6, 7, 7, 46, 72, 124, 345]\n",
            "[1, 3, 6, 7, 7, 46, 72, 124, 345]\n",
            "[345, 124, 72, 46, 7, 7, 6, 3, 1]\n",
            "[1, 3, 6, 7, 7, 46, 72, 124, 345]\n"
          ],
          "name": "stdout"
        }
      ]
    }
  ]
}