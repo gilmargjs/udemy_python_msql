{
  "nbformat": 4,
  "nbformat_minor": 0,
  "metadata": {
    "colab": {
      "name": "udemy_funcao_inumerate.py",
      "provenance": [],
      "collapsed_sections": [],
      "authorship_tag": "ABX9TyOb+cwAozxHIkVIDaUTfQ2a",
      "include_colab_link": true
    },
    "kernelspec": {
      "name": "python3",
      "display_name": "Python 3"
    }
  },
  "cells": [
    {
      "cell_type": "markdown",
      "metadata": {
        "id": "view-in-github",
        "colab_type": "text"
      },
      "source": [
        "<a href=\"https://colab.research.google.com/github/gilmargjs/udemy_python_msql/blob/main/udemy_funcao_inumerate_py.ipynb\" target=\"_parent\"><img src=\"https://colab.research.google.com/assets/colab-badge.svg\" alt=\"Open In Colab\"/></a>"
      ]
    },
    {
      "cell_type": "code",
      "metadata": {
        "colab": {
          "base_uri": "https://localhost:8080/"
        },
        "id": "NXX4kqwH3r5J",
        "outputId": "338293f9-3a39-4f42-a8f4-3f0975ee922d"
      },
      "source": [
        "lista = [\"abacate\",\"bola\",\"cachorro\"]\n",
        "\n",
        "for i, nome in enumerate(lista):#busca na lista o numero e nome do objto\n",
        "  print(i, nome)# imprime o indice(numero) e o nome do objeto"
      ],
      "execution_count": null,
      "outputs": [
        {
          "output_type": "stream",
          "text": [
            "0 abacate\n",
            "1 bola\n",
            "2 cachorro\n"
          ],
          "name": "stdout"
        }
      ]
    }
  ]
}