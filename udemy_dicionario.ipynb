{
  "nbformat": 4,
  "nbformat_minor": 0,
  "metadata": {
    "colab": {
      "name": "udemy_dicionario.ipynb",
      "provenance": [],
      "collapsed_sections": [],
      "authorship_tag": "ABX9TyPWJbL9zjNCkjaQd+vMbj1k",
      "include_colab_link": true
    },
    "kernelspec": {
      "name": "python3",
      "display_name": "Python 3"
    }
  },
  "cells": [
    {
      "cell_type": "markdown",
      "metadata": {
        "id": "view-in-github",
        "colab_type": "text"
      },
      "source": [
        "<a href=\"https://colab.research.google.com/github/gilmargjs/udemy_python_msql/blob/main/udemy_dicionario.ipynb\" target=\"_parent\"><img src=\"https://colab.research.google.com/assets/colab-badge.svg\" alt=\"Open In Colab\"/></a>"
      ]
    },
    {
      "cell_type": "code",
      "metadata": {
        "colab": {
          "base_uri": "https://localhost:8080/"
        },
        "id": "L4bdbfETxyqx",
        "outputId": "7694b1fc-49fd-4cd9-ae01-2c7fac91ccb4"
      },
      "source": [
        "# Dicionario usa-se chave \n",
        "# a busca no dicionario é atravez de colchete e não usa-se numero na busca\n",
        "\n",
        "\n",
        "dicionario = {\"A\":\"AMEIXA\",\"B\":\"BOLA\",\"C\":\"CARRO\",\"1\":\"DADO\"}# dicionario usa (:) para separar chave e valor\n",
        "print(dicionario[\"A\"]) # abusca é atravez de colchetes e item que mesmo sendo numero é em forma de string\n",
        "print(dicionario)      # impressão do dicionario completo\n",
        "print(dicionario[\"1\"]) # abusca é atravez de colchetes e item que mesmo sendo numero é em forma de string"
      ],
      "execution_count": null,
      "outputs": [
        {
          "output_type": "stream",
          "text": [
            "AMEIXA\n",
            "{'A': 'AMEIXA', 'B': 'BOLA', 'C': 'CARRO', '1': 'DADO'}\n",
            "DADO\n"
          ],
          "name": "stdout"
        }
      ]
    },
    {
      "cell_type": "code",
      "metadata": {
        "colab": {
          "base_uri": "https://localhost:8080/"
        },
        "id": "FuoQvmLl0hlY",
        "outputId": "99d2f5be-465c-4799-f7fb-da96bb747166"
      },
      "source": [
        "# navegando nos itens\n",
        "# Dicionario usa-se chave \n",
        "# a busca no dicionario é atravez de colchete e não usa-se numero na busca\n",
        "\n",
        "\n",
        "dicionario = {\"A\":\"AMEIXA\",\"B\":\"BOLA\",\"C\":\"CARRO\",\"1\":\"DADO\"}# dicionario usa (:) para separar chave e valor\n",
        "for chave in dicionario:# navegando entra as chaves\n",
        "  print(chave)# loop nas chaves \n",
        "  print(dicionario[chave])# loop nos valores\n",
        "  print(chave+\"-\"+dicionario[chave])# loop na chave junto com valor\n"
      ],
      "execution_count": null,
      "outputs": [
        {
          "output_type": "stream",
          "text": [
            "A\n",
            "AMEIXA\n",
            "A-AMEIXA\n",
            "B\n",
            "BOLA\n",
            "B-BOLA\n",
            "C\n",
            "CARRO\n",
            "C-CARRO\n",
            "1\n",
            "DADO\n",
            "1-DADO\n"
          ],
          "name": "stdout"
        }
      ]
    },
    {
      "cell_type": "code",
      "metadata": {
        "colab": {
          "base_uri": "https://localhost:8080/"
        },
        "id": "wR_sUWPa2MPX",
        "outputId": "5d35f587-79b9-4b2c-9808-1e45cbdb8d88"
      },
      "source": [
        "# navegando nos itens\n",
        "# Dicionario usa-se chave \n",
        "# a busca no dicionario é atravez de colchete e não usa-se numero na busca\n",
        "\n",
        "\n",
        "dicionario = {\"A\":\"AMEIXA\",\"B\":\"BOLA\",\"C\":\"CARRO\",\"1\":\"DADO\"}# dicionario usa (:) para separar chave e valor\n",
        "for i in dicionario.items():# retorna uma tupla que um objeto imutavel\n",
        "  print(i)"
      ],
      "execution_count": null,
      "outputs": [
        {
          "output_type": "stream",
          "text": [
            "('A', 'AMEIXA')\n",
            "('B', 'BOLA')\n",
            "('C', 'CARRO')\n",
            "('1', 'DADO')\n"
          ],
          "name": "stdout"
        }
      ]
    },
    {
      "cell_type": "code",
      "metadata": {
        "colab": {
          "base_uri": "https://localhost:8080/"
        },
        "id": "BughG0hF3JN2",
        "outputId": "90541540-1505-4ca8-decd-26c1e5a6d644"
      },
      "source": [
        "# navegando nos itens\n",
        "# Dicionario usa-se chave \n",
        "# a busca no dicionario é atravez de colchete e não usa-se numero na busca\n",
        "\n",
        "\n",
        "dicionario = {\"A\":\"AMEIXA\",\"B\":\"BOLA\",\"C\":\"CARRO\",\"1\":\"DADO\"}# dicionario usa (:) para separar chave e valor\n",
        "for i in dicionario.keys():# retorna só as chaves\n",
        "  print(i)"
      ],
      "execution_count": null,
      "outputs": [
        {
          "output_type": "stream",
          "text": [
            "A\n",
            "B\n",
            "C\n",
            "1\n"
          ],
          "name": "stdout"
        }
      ]
    },
    {
      "cell_type": "code",
      "metadata": {
        "colab": {
          "base_uri": "https://localhost:8080/"
        },
        "id": "bmTWx6ah24EH",
        "outputId": "b9421a95-d621-45cc-921d-e769bbb2bec9"
      },
      "source": [
        "# navegando nos itens\n",
        "# Dicionario usa-se chave \n",
        "# a busca no dicionario é atravez de colchete e não usa-se numero na busca\n",
        "\n",
        "\n",
        "dicionario = {\"A\":\"AMEIXA\",\"B\":\"BOLA\",\"C\":\"CARRO\",\"1\":\"DADO\"}# dicionario usa (:) para separar chave e valor\n",
        "for i in dicionario.values():# retorna só os valores\n",
        "  print(i)"
      ],
      "execution_count": null,
      "outputs": [
        {
          "output_type": "stream",
          "text": [
            "AMEIXA\n",
            "BOLA\n",
            "CARRO\n",
            "DADO\n"
          ],
          "name": "stdout"
        }
      ]
    }
  ]
}