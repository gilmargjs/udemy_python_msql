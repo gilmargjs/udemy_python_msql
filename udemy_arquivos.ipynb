{
  "nbformat": 4,
  "nbformat_minor": 0,
  "metadata": {
    "colab": {
      "name": "udemy_arquivos.ipynb",
      "provenance": [],
      "collapsed_sections": [],
      "authorship_tag": "ABX9TyPo0UDzlwsOfNp/2Rl3z9pz",
      "include_colab_link": true
    },
    "kernelspec": {
      "name": "python3",
      "display_name": "Python 3"
    }
  },
  "cells": [
    {
      "cell_type": "markdown",
      "metadata": {
        "id": "view-in-github",
        "colab_type": "text"
      },
      "source": [
        "<a href=\"https://colab.research.google.com/github/gilmargjs/udemy_python_msql/blob/main/udemy_arquivos.ipynb\" target=\"_parent\"><img src=\"https://colab.research.google.com/assets/colab-badge.svg\" alt=\"Open In Colab\"/></a>"
      ]
    },
    {
      "cell_type": "code",
      "metadata": {
        "colab": {
          "base_uri": "https://localhost:8080/",
          "height": 219
        },
        "id": "y4-a5FPitOmr",
        "outputId": "331203e3-9f17-4f99-c7e9-a7ee3517dd7d"
      },
      "source": [
        "# Modos de execução de Arquivos\n",
        "\n",
        "# r = somente leitura\n",
        "# w = escrita (caso o arquivo já exista ele será apagado e um novo arquivo vazio será criado\n",
        "# a = leitura e escrita(adiciona o novo conteudo ao fim do arquivo) \n",
        "# r+= leitura e escrita\n",
        "# w+= escrita (o modo w+, assim como o w, também apaga o conteudo anterior do arquuivo)\n",
        "# a+= leitura e escrita(abre o arquivo para atualização)\n",
        "\n",
        "# lendo oarquivo\n",
        "\n",
        "# read() - lê arquivo inteiro\n",
        "# readline() - lê uma linha\n",
        "# readlines() - lê arquivos eo armazena em uma lista \n",
        "\n",
        "arquivo = open(\"arquivo.txt\")\n",
        "linhas = arquivo.readlines()\n"
      ],
      "execution_count": null,
      "outputs": [
        {
          "output_type": "error",
          "ename": "FileNotFoundError",
          "evalue": "ignored",
          "traceback": [
            "\u001b[0;31m---------------------------------------------------------------------------\u001b[0m",
            "\u001b[0;31mFileNotFoundError\u001b[0m                         Traceback (most recent call last)",
            "\u001b[0;32m<ipython-input-3-463fdebd0c34>\u001b[0m in \u001b[0;36m<module>\u001b[0;34m()\u001b[0m\n\u001b[1;32m     14\u001b[0m \u001b[0;31m# readlines() - lê arquivos eo armazena em uma lista\u001b[0m\u001b[0;34m\u001b[0m\u001b[0;34m\u001b[0m\u001b[0;34m\u001b[0m\u001b[0m\n\u001b[1;32m     15\u001b[0m \u001b[0;34m\u001b[0m\u001b[0m\n\u001b[0;32m---> 16\u001b[0;31m \u001b[0marquivo\u001b[0m \u001b[0;34m=\u001b[0m \u001b[0mopen\u001b[0m\u001b[0;34m(\u001b[0m\u001b[0;34m\"arquivo.txt\"\u001b[0m\u001b[0;34m)\u001b[0m\u001b[0;34m\u001b[0m\u001b[0;34m\u001b[0m\u001b[0m\n\u001b[0m\u001b[1;32m     17\u001b[0m \u001b[0mlinhas\u001b[0m \u001b[0;34m=\u001b[0m \u001b[0marquivo\u001b[0m\u001b[0;34m.\u001b[0m\u001b[0mreadlines\u001b[0m\u001b[0;34m(\u001b[0m\u001b[0;34m)\u001b[0m\u001b[0;34m\u001b[0m\u001b[0;34m\u001b[0m\u001b[0m\n",
            "\u001b[0;31mFileNotFoundError\u001b[0m: [Errno 2] No such file or directory: 'arquivo.txt'"
          ]
        }
      ]
    },
    {
      "cell_type": "code",
      "metadata": {
        "id": "_Luyzo_nwZdU"
      },
      "source": [
        "# Modos de execução de Arquivos\n",
        "\n",
        "# r = somente leitura\n",
        "# w = escrita (caso o arquivo já exista ele será apagado e um novo arquivo vazio será criado\n",
        "# a = leitura e escrita(adiciona o novo conteudo ao fim do arquivo) \n",
        "# r+= leitura e escrita\n",
        "# w+= escrita (o modo w+, assim como o w, também apaga o conteudo anterior do arquuivo)\n",
        "# a+= leitura e escrita(abre o arquivo para atualização)\n",
        "\n",
        "# lendo oarquivo\n",
        "\n",
        "# read() - lê arquivo inteiro\n",
        "# readline() - lê uma linha\n",
        "# readlines() - lê arquivos eo armazena em uma lista "
      ],
      "execution_count": null,
      "outputs": []
    },
    {
      "cell_type": "code",
      "metadata": {
        "id": "D9xs7VjrwakW"
      },
      "source": [
        "# Modos de execução de Arquivos\n",
        "\n",
        "# r = somente leitura\n",
        "# w = escrita (caso o arquivo já exista ele será apagado e um novo arquivo vazio será criado\n",
        "# a = leitura e escrita(adiciona o novo conteudo ao fim do arquivo) \n",
        "# r+= leitura e escrita\n",
        "# w+= escrita (o modo w+, assim como o w, também apaga o conteudo anterior do arquuivo)\n",
        "# a+= leitura e escrita(abre o arquivo para atualização)\n",
        "\n",
        "# lendo oarquivo\n",
        "\n",
        "# read() - lê arquivo inteiro\n",
        "# readline() - lê uma linha\n",
        "# readlines() - lê arquivos eo armazena em uma lista "
      ],
      "execution_count": null,
      "outputs": []
    }
  ]
}