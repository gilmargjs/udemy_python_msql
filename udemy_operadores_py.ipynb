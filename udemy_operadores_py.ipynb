{
  "nbformat": 4,
  "nbformat_minor": 0,
  "metadata": {
    "colab": {
      "name": "udemy_operadores.py",
      "provenance": [],
      "collapsed_sections": [],
      "authorship_tag": "ABX9TyMd2hD9UXBIG5VvnsD3cmTq",
      "include_colab_link": true
    },
    "kernelspec": {
      "name": "python3",
      "display_name": "Python 3"
    }
  },
  "cells": [
    {
      "cell_type": "markdown",
      "metadata": {
        "id": "view-in-github",
        "colab_type": "text"
      },
      "source": [
        "<a href=\"https://colab.research.google.com/github/gilmargjs/udemy_python_msql/blob/main/udemy_operadores_py.ipynb\" target=\"_parent\"><img src=\"https://colab.research.google.com/assets/colab-badge.svg\" alt=\"Open In Colab\"/></a>"
      ]
    },
    {
      "cell_type": "code",
      "metadata": {
        "colab": {
          "base_uri": "https://localhost:8080/"
        },
        "id": "REyE_pEsZOg_",
        "outputId": "d4a417a7-3e63-4401-cbfa-303b30e5a2f0"
      },
      "source": [
        "x = 2\n",
        "y = 3\n",
        "print(x == y)\n",
        "print(x != y)"
      ],
      "execution_count": null,
      "outputs": [
        {
          "output_type": "stream",
          "text": [
            "False\n",
            "True\n"
          ],
          "name": "stdout"
        }
      ]
    },
    {
      "cell_type": "code",
      "metadata": {
        "id": "PH0rVR_dabtG"
      },
      "source": [
        ""
      ],
      "execution_count": null,
      "outputs": []
    },
    {
      "cell_type": "code",
      "metadata": {
        "colab": {
          "base_uri": "https://localhost:8080/"
        },
        "id": "XnbQhbB-ZvDH",
        "outputId": "2edc4eae-c5c3-4be2-f0be-6bd58beaa5c6"
      },
      "source": [
        "x = 3 \n",
        "y = 3\n",
        "print(x == y)"
      ],
      "execution_count": null,
      "outputs": [
        {
          "output_type": "stream",
          "text": [
            "True\n"
          ],
          "name": "stdout"
        }
      ]
    },
    {
      "cell_type": "code",
      "metadata": {
        "colab": {
          "base_uri": "https://localhost:8080/"
        },
        "id": "bumpbTx5Z8xm",
        "outputId": "aeff8ac9-49bd-44c8-f98a-ebbc4a6b4e27"
      },
      "source": [
        "x = 3\n",
        "y = 4\n",
        "print(x < y)\n",
        "print(x > y)"
      ],
      "execution_count": null,
      "outputs": [
        {
          "output_type": "stream",
          "text": [
            "True\n",
            "False\n"
          ],
          "name": "stdout"
        }
      ]
    },
    {
      "cell_type": "code",
      "metadata": {
        "colab": {
          "base_uri": "https://localhost:8080/"
        },
        "id": "kTRDRGCuagHi",
        "outputId": "bf752cf4-6979-4a31-fbd5-a25fe5d4f54f"
      },
      "source": [
        "x = 2 \n",
        "y = 3\n",
        "soma = x + y\n",
        "print(soma == x)"
      ],
      "execution_count": null,
      "outputs": [
        {
          "output_type": "stream",
          "text": [
            "False\n"
          ],
          "name": "stdout"
        }
      ]
    }
  ]
}