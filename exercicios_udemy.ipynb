{
  "nbformat": 4,
  "nbformat_minor": 0,
  "metadata": {
    "colab": {
      "name": "exercicios_udemy.ipynb",
      "provenance": [],
      "collapsed_sections": [],
      "authorship_tag": "ABX9TyPD44TyjMXyyfTsqFMFbaRi",
      "include_colab_link": true
    },
    "kernelspec": {
      "name": "python3",
      "display_name": "Python 3"
    }
  },
  "cells": [
    {
      "cell_type": "markdown",
      "metadata": {
        "id": "view-in-github",
        "colab_type": "text"
      },
      "source": [
        "<a href=\"https://colab.research.google.com/github/gilmargjs/udemy_python_msql/blob/main/exercicios_udemy.ipynb\" target=\"_parent\"><img src=\"https://colab.research.google.com/assets/colab-badge.svg\" alt=\"Open In Colab\"/></a>"
      ]
    },
    {
      "cell_type": "code",
      "metadata": {
        "colab": {
          "base_uri": "https://localhost:8080/"
        },
        "id": "KjliYBO-PeRq",
        "outputId": "ec511b9c-7e25-4994-c77c-a0dbadeb9c5b"
      },
      "source": [
        "idade = int(input(\"digite sua idade:\"))\n",
        "print(\"sua idade é \",idade,\"anos\")\n",
        "\n",
        "if idade >= 18:\n",
        "  print(\"você é maior de idade\")\n",
        "elif idade < 18:\n",
        "  print(\"você é menor de idade\")\n"
      ],
      "execution_count": null,
      "outputs": [
        {
          "output_type": "stream",
          "text": [
            "digite sua idade:16\n",
            "sua idade é  16 anos\n",
            "você é menor de idade\n"
          ],
          "name": "stdout"
        }
      ]
    },
    {
      "cell_type": "code",
      "metadata": {
        "colab": {
          "base_uri": "https://localhost:8080/"
        },
        "id": "tHt02UTcSzTH",
        "outputId": "6702472e-592f-423e-925d-569396632630"
      },
      "source": [
        "nota1 = float(input(\"digite a primeira nota: \"))\n",
        "nota2 = float(input(\"digite a segunda nota: \"))\n",
        "media = (nota1 + nota2) / 2\n",
        "if(media >= 6):\n",
        "  print(\"parabens sua nota é\" ,media,\"você está aprovado\")\n",
        "else:\n",
        "  print(\"sua nota é \" ,media,\"estude mais você está reprovado\")"
      ],
      "execution_count": null,
      "outputs": [
        {
          "output_type": "stream",
          "text": [
            "digite a primeira nota: 8.6\n",
            "digite a segunda nota: 6.2\n",
            "parabens sua nota é 7.4 você está aprovado\n"
          ],
          "name": "stdout"
        }
      ]
    },
    {
      "cell_type": "code",
      "metadata": {
        "id": "0LjuGS1zUnI9",
        "colab": {
          "base_uri": "https://localhost:8080/"
        },
        "outputId": "47682da9-fc1c-45df-fbf6-7b884a2af6a1"
      },
      "source": [
        "from math import  sqrt #importando bilbioteca matematica(sqtr= raiz quadrada)\n",
        "a = int(input(\"Digite o valor de A:\"))\n",
        "b = int(input(\"Digite o valor de B:\"))\n",
        "c = int(input(\"Digite o valor de C\"))\n",
        "\n",
        "delta = b**2 - 4*a*c \n",
        "raiz_delta = sqrt(delta)\n",
        "\n",
        "if raiz_delta < 0:\n",
        "  print(\"Delta Negativo\")\n",
        "else:\n",
        "  x1 = (-a + raiz_delta)/2*a\n",
        "  x2 = (-b + raiz_delta)/2*a\n",
        "\n",
        "  print(\"As riazes são\", x1, \"e\", x2)"
      ],
      "execution_count": null,
      "outputs": [
        {
          "output_type": "stream",
          "text": [
            "Digite o valor de A:2\n",
            "Digite o valor de B:5\n",
            "Digite o valor de C3\n",
            "As riazes são -1.0 e -4.0\n"
          ],
          "name": "stdout"
        }
      ]
    },
    {
      "cell_type": "code",
      "metadata": {
        "colab": {
          "base_uri": "https://localhost:8080/"
        },
        "id": "FbRqXzsjVO2T",
        "outputId": "3c31a2ed-82a5-43cc-e6ef-05dd5c9e58ff"
      },
      "source": [
        "lista =  [\"abacate\",\"melão\",\"rebanete\",\"goiaba\"]\n",
        "lista.sort()\n",
        "print(lista)"
      ],
      "execution_count": null,
      "outputs": [
        {
          "output_type": "stream",
          "text": [
            "['abacate', 'goiaba', 'melão', 'rebanete']\n"
          ],
          "name": "stdout"
        }
      ]
    },
    {
      "cell_type": "code",
      "metadata": {
        "colab": {
          "base_uri": "https://localhost:8080/"
        },
        "id": "8n-bimhfY1V0",
        "outputId": "547bfbe2-7c9f-4e51-9155-ede6b2a53f28"
      },
      "source": [
        "n1 = int(input(\"Digite o primeiro número: \"))\n",
        "n2 = int(input(\"Digite o segundo número: \"))\n",
        "sinal = input(\"por favor digite um sinal de operação:\")\n",
        "\n",
        "if sinal == \"+\":\n",
        "  op = n1 + n2\n",
        "\n",
        "elif sinal == \"-\":\n",
        "  op = n1 - n2 \n",
        "\n",
        "elif sinal == \"/\":\n",
        "  op = n1 / n2\n",
        "\n",
        "elif sinal == \"*\":\n",
        "  op = n1 * n2\n",
        "\n",
        "else:\n",
        "  print(\"sinal invalido.\")\n",
        "\n",
        "print(\"o valor da operação é \",op)"
      ],
      "execution_count": null,
      "outputs": [
        {
          "output_type": "stream",
          "text": [
            "Digite o primeiro número: 50\n",
            "Digite o segundo número: 50\n",
            "por favor digite um sinal de operação:-\n",
            "o valor da operação é  0\n"
          ],
          "name": "stdout"
        }
      ]
    },
    {
      "cell_type": "code",
      "metadata": {
        "id": "TXBnAQ2FoufA"
      },
      "source": [
        ""
      ],
      "execution_count": null,
      "outputs": []
    }
  ]
}