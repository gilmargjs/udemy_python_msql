{
  "nbformat": 4,
  "nbformat_minor": 0,
  "metadata": {
    "colab": {
      "name": "udemy_funcoes.ipynb",
      "provenance": [],
      "collapsed_sections": [],
      "authorship_tag": "ABX9TyNXipaT7U0qiNWh6UPwZ54Z",
      "include_colab_link": true
    },
    "kernelspec": {
      "name": "python3",
      "display_name": "Python 3"
    }
  },
  "cells": [
    {
      "cell_type": "markdown",
      "metadata": {
        "id": "view-in-github",
        "colab_type": "text"
      },
      "source": [
        "<a href=\"https://colab.research.google.com/github/gilmargjs/udemy_python_msql/blob/main/udemy_funcoes.ipynb\" target=\"_parent\"><img src=\"https://colab.research.google.com/assets/colab-badge.svg\" alt=\"Open In Colab\"/></a>"
      ]
    },
    {
      "cell_type": "code",
      "metadata": {
        "colab": {
          "base_uri": "https://localhost:8080/"
        },
        "id": "752YHExSSzI7",
        "outputId": "43eb9c9b-0c6a-4196-a5ad-c4f6f59475cd"
      },
      "source": [
        "menu = 0\n",
        "\n",
        "def abrirArquivo():\n",
        "    nome = input(\"Digite o Nome do Arquivo que Deseja Abrir: \")\n",
        "\n",
        "    arquivo = open(nome)\n",
        "\n",
        "    return arquivo\n",
        "\n",
        "def lerArquivo(arquivo):\n",
        "\n",
        "    linhas = arquivo.readlines()\n",
        "\n",
        "    for linha in linhas:\n",
        "      print(linha.strip())\n",
        "\n",
        "while menu != 3:\n",
        "    print(\"(1) Abrir Arquivo\\n(2) Ler Arquivo Aberto\\n(3) Sair\\n\")\n",
        "\n",
        "    menu = int(input(\"Digite a Opção Desejada: \"))\n",
        "\n",
        "    if(menu == 1):\n",
        "      arquivo = abrirArquivo()\n",
        "\n",
        "    elif(menu == 2):\n",
        "      lerArquivo(arquivo)\n",
        "  "
      ],
      "execution_count": null,
      "outputs": [
        {
          "output_type": "stream",
          "text": [
            "(1) Abrir Arquivo\n",
            "(2) Ler Arquivo Aberto\n",
            "(3) Sair\n",
            "\n",
            "Digite a Opção Desejada: 3\n"
          ],
          "name": "stdout"
        }
      ]
    }
  ]
}