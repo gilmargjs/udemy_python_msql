{
  "nbformat": 4,
  "nbformat_minor": 0,
  "metadata": {
    "colab": {
      "name": "udemy_variveis.py",
      "provenance": [],
      "collapsed_sections": [],
      "authorship_tag": "ABX9TyOyveLG+S6ZodFEbWD6Ae5d",
      "include_colab_link": true
    },
    "kernelspec": {
      "name": "python3",
      "display_name": "Python 3"
    }
  },
  "cells": [
    {
      "cell_type": "markdown",
      "metadata": {
        "id": "view-in-github",
        "colab_type": "text"
      },
      "source": [
        "<a href=\"https://colab.research.google.com/github/gilmargjs/udemy_python_msql/blob/main/udemy_variveis_py.ipynb\" target=\"_parent\"><img src=\"https://colab.research.google.com/assets/colab-badge.svg\" alt=\"Open In Colab\"/></a>"
      ]
    },
    {
      "cell_type": "code",
      "metadata": {
        "colab": {
          "base_uri": "https://localhost:8080/"
        },
        "id": "MxO2x3z9Vva1",
        "outputId": "9b2f17bb-3f8e-42f7-9229-4fb31f297e6b"
      },
      "source": [
        "minha_variavel = \"olá mundo\"#varivael é um espaço na memoria que vamos usar varias vezes\n",
        "print(minha_variavel)"
      ],
      "execution_count": null,
      "outputs": [
        {
          "output_type": "stream",
          "text": [
            "olá mundo\n"
          ],
          "name": "stdout"
        }
      ]
    },
    {
      "cell_type": "code",
      "metadata": {
        "colab": {
          "base_uri": "https://localhost:8080/"
        },
        "id": "j2ooNm5GXOgu",
        "outputId": "7a0915c0-8898-4a18-f646-7c04a1e2fde0"
      },
      "source": [
        "var1 = 1   #variavel inteiro\n",
        "var2 = 1.1 #variavel float\n",
        "var3 = \"eu sou uma string\" #varivel string\n",
        "var4 = True #verdadeiro\n",
        "var5 = False #falso\n",
        "print(var1,var2,var3,var4,var5)"
      ],
      "execution_count": null,
      "outputs": [
        {
          "output_type": "stream",
          "text": [
            "1 1.1 eu sou uma string True False\n"
          ],
          "name": "stdout"
        }
      ]
    }
  ]
}