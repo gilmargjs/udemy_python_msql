{
  "nbformat": 4,
  "nbformat_minor": 0,
  "metadata": {
    "colab": {
      "name": "compreensao_de _lista.py",
      "provenance": [],
      "collapsed_sections": [],
      "authorship_tag": "ABX9TyPGxxZLNUcx7Ns/EHxEMaxW",
      "include_colab_link": true
    },
    "kernelspec": {
      "name": "python3",
      "display_name": "Python 3"
    }
  },
  "cells": [
    {
      "cell_type": "markdown",
      "metadata": {
        "id": "view-in-github",
        "colab_type": "text"
      },
      "source": [
        "<a href=\"https://colab.research.google.com/github/gilmargjs/udemy_python_msql/blob/main/compreensao_de__lista_py.ipynb\" target=\"_parent\"><img src=\"https://colab.research.google.com/assets/colab-badge.svg\" alt=\"Open In Colab\"/></a>"
      ]
    },
    {
      "cell_type": "code",
      "metadata": {
        "colab": {
          "base_uri": "https://localhost:8080/"
        },
        "id": "-z2laISmzTog",
        "outputId": "aaa47567-1306-4a08-d93f-a57491fe9dab"
      },
      "source": [
        "#list comprehension\n",
        "\n",
        "x = [1,2,3,4,5]\n",
        "y = [i**2 for i in x]#conceito de list comprehension , retorna uma nova lista \n",
        "#no exemplo com o quadrado da primeira \n",
        "\n",
        "print(\"usando o list comprehension\")\n",
        "print(x)\n",
        "print(y)\n",
        "\n",
        "# outro exemplo\n",
        "#imprimindo numeros impares da lista\n",
        "\n",
        "a = [1,2,3,4,5,6,7,8,]\n",
        "b = [i for i in a if i%2==1]# retorna os numeros impares em uma nova lista\n",
        "\n",
        "print(b)"
      ],
      "execution_count": null,
      "outputs": [
        {
          "output_type": "stream",
          "text": [
            "usando o list comprehension\n",
            "[1, 2, 3, 4, 5]\n",
            "[1, 4, 9, 16, 25]\n",
            "[1, 3, 5, 7]\n"
          ],
          "name": "stdout"
        }
      ]
    }
  ]
}