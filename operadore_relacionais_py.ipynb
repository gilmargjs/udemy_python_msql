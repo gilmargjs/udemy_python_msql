{
  "nbformat": 4,
  "nbformat_minor": 0,
  "metadata": {
    "colab": {
      "name": "operadore_relacionais.py",
      "provenance": [],
      "collapsed_sections": [],
      "authorship_tag": "ABX9TyPRNw2zVOoOnkKPqnQzhByb",
      "include_colab_link": true
    },
    "kernelspec": {
      "name": "python3",
      "display_name": "Python 3"
    }
  },
  "cells": [
    {
      "cell_type": "markdown",
      "metadata": {
        "id": "view-in-github",
        "colab_type": "text"
      },
      "source": [
        "<a href=\"https://colab.research.google.com/github/gilmargjs/udemy_python_msql/blob/main/operadore_relacionais_py.ipynb\" target=\"_parent\"><img src=\"https://colab.research.google.com/assets/colab-badge.svg\" alt=\"Open In Colab\"/></a>"
      ]
    },
    {
      "cell_type": "code",
      "metadata": {
        "colab": {
          "base_uri": "https://localhost:8080/"
        },
        "id": "cMKjn1l8bKXx",
        "outputId": "25bbff19-f1d9-47b2-fc78-4041ba37f249"
      },
      "source": [
        "x = 3\n",
        "y = 4\n",
        "soma = x + y\n",
        "print(x == y and x == soma)\n",
        "print(x != y and soma == x+y)\n",
        "print(x < y or soma < y)"
      ],
      "execution_count": null,
      "outputs": [
        {
          "output_type": "stream",
          "text": [
            "False\n",
            "True\n",
            "True\n"
          ],
          "name": "stdout"
        }
      ]
    }
  ]
}