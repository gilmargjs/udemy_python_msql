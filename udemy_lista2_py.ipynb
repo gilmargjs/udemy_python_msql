{
  "nbformat": 4,
  "nbformat_minor": 0,
  "metadata": {
    "colab": {
      "name": "udemy_lista2.py",
      "provenance": [],
      "collapsed_sections": [],
      "authorship_tag": "ABX9TyOxEIK6Y7tlcAJXFe+cvf4u",
      "include_colab_link": true
    },
    "kernelspec": {
      "name": "python3",
      "display_name": "Python 3"
    }
  },
  "cells": [
    {
      "cell_type": "markdown",
      "metadata": {
        "id": "view-in-github",
        "colab_type": "text"
      },
      "source": [
        "<a href=\"https://colab.research.google.com/github/gilmargjs/udemy_python_msql/blob/main/udemy_lista2_py.ipynb\" target=\"_parent\"><img src=\"https://colab.research.google.com/assets/colab-badge.svg\" alt=\"Open In Colab\"/></a>"
      ]
    },
    {
      "cell_type": "code",
      "metadata": {
        "colab": {
          "base_uri": "https://localhost:8080/"
        },
        "id": "pkeRL1KOxNo5",
        "outputId": "c5fca813-5a05-4775-d272-9e7f5f36922a"
      },
      "source": [
        "# listas aninhadas(listas dentro de outras listas)\n",
        "\n",
        "listas = [[1,2,3,],[4,5,6],[7,8,9,10]]#3 listas dentro de uma lista\n",
        "print(listas)#imprimindo\n",
        "\n",
        "a = listas[0]# atribuindo uma lista a variavel a\n",
        "print(a)\n",
        "print(a[0])# imprimindo item 0\n",
        "print(a[1])# imprimindo item 1\n",
        "print(a[2])# imprimindo item 2\n",
        "\n",
        "\n",
        "b = listas[1]# atribuindo uma lista a variavel b\n",
        "print(b)\n",
        "print(b[0])# imprimindo item 0\n",
        "print(b[1])# imprimindo item 1\n",
        "print(b[2])# imprimindo item 2\n",
        "\n",
        "\n",
        "c = listas[2]# atribuindo uma lista a variavel c\n",
        "print(c)\n",
        "print(c[0])# imprimindo item 0\n",
        "print(c[1])# imprimindo item 1\n",
        "print(c[2])# imprimindo item 2\n",
        "print(c[3])# imprimindo item 3\n"
      ],
      "execution_count": null,
      "outputs": [
        {
          "output_type": "stream",
          "text": [
            "[[1, 2, 3], [4, 5, 6], [7, 8, 9, 10]]\n",
            "[1, 2, 3]\n",
            "1\n",
            "2\n",
            "3\n",
            "[4, 5, 6]\n",
            "4\n",
            "6\n",
            "4\n",
            "[7, 8, 9, 10]\n",
            "7\n",
            "8\n",
            "9\n",
            "10\n"
          ],
          "name": "stdout"
        }
      ]
    },
    {
      "cell_type": "code",
      "metadata": {
        "colab": {
          "base_uri": "https://localhost:8080/"
        },
        "id": "fjhN6Vn10buP",
        "outputId": "b1c4d64a-2521-4f5a-fef1-90ea57c42a7b"
      },
      "source": [
        "# operações com listas\n",
        "\n",
        "# listas aninhadas(listas dentro de outras listas)\n",
        "\n",
        "listas = [[1,2,3,],[4,5,6],[7,8,9,10]]#3 listas dentro de uma lista\n",
        "print(listas)#imprimindo\n",
        "\n",
        "a = listas[0][0]# atribuindo item da lista a uma variavel\n",
        "print(a)#imprimindo\n",
        "\n",
        "b = listas[1][2]# atribuindo item da lista a uma variavel\n",
        "print(b)\n",
        "\n",
        "c = listas[2][3]# atribuindo item da lista a uma variavel\n",
        "print(c)\n",
        "\n",
        "d = listas[0][2] + 2# atribuindo item da lista somado a um valor a uma variavel\n",
        "print(d)\n",
        "\n",
        "# concatenação de listas\n",
        "s1 = [12,10,3,6,]\n",
        "s2 = [8,5,18,23]\n",
        "s3 = s1 + s2     # concatenção de listas(juntando as duas listas)\n",
        "print(s3)\n",
        "\n",
        "s4 = s1[0]+s1[1]+s1[2]+s1[3]\n",
        "print(s4)\n",
        "\n",
        "# veificar se valor estar na lista \n",
        "print(10 in s1)\n",
        "\n",
        "len(s1)# verificar comprimento da lista\n",
        "\n",
        "max(s1)# retorna o maior valor da lista\n",
        "\n",
        "min(s1)# retorna o menor valor da lista\n",
        "\n",
        "# adicionando novo valor na lista\n",
        "listas.append([\"carne\",\"feijão\",\"farinha\"])#adicionando nova lista as listas\n",
        "print(listas)\n",
        "\n",
        "listas[0].append(4)#adicionando novo item a lista 1 dentro de listas\n",
        "print(listas)\n",
        "\n",
        "len(listas)# verificando tamanho da lista\n",
        "j = []#criando lista vazia\n",
        "for item in s2:j.append(item)# adicionando o valor da lista s2 dentro da lista j\n",
        "print(j)"
      ],
      "execution_count": null,
      "outputs": [
        {
          "output_type": "stream",
          "text": [
            "[[1, 2, 3], [4, 5, 6], [7, 8, 9, 10]]\n",
            "1\n",
            "6\n",
            "10\n",
            "5\n",
            "[12, 10, 3, 6, 8, 5, 18, 23]\n",
            "31\n",
            "True\n",
            "[[1, 2, 3], [4, 5, 6], [7, 8, 9, 10], ['carne', 'feijão', 'farinha']]\n",
            "[[1, 2, 3, 4], [4, 5, 6], [7, 8, 9, 10], ['carne', 'feijão', 'farinha']]\n",
            "[8, 5, 18, 23]\n"
          ],
          "name": "stdout"
        }
      ]
    },
    {
      "cell_type": "code",
      "metadata": {
        "colab": {
          "base_uri": "https://localhost:8080/"
        },
        "id": "BCkOGQVt-9tH",
        "outputId": "1fdaab81-4d10-460e-fb4f-16bfcf3fed61"
      },
      "source": [
        "# operações com listas\n",
        "\n",
        "# listas aninhadas(listas dentro de outras listas)\n",
        "\n",
        "l5 = [[1,2,3,3],[4,5,6],[7,8,9,10]]#3 listas dentro de uma lista\n",
        "print(l5)#imprimindo\n",
        "\n",
        "l5[0].count(3) # contando quantas vezes o numero 3 aparece na lista l5[0]"
      ],
      "execution_count": null,
      "outputs": [
        {
          "output_type": "stream",
          "text": [
            "[[1, 2, 3, 3], [4, 5, 6], [7, 8, 9, 10]]\n"
          ],
          "name": "stdout"
        },
        {
          "output_type": "execute_result",
          "data": {
            "text/plain": [
              "2"
            ]
          },
          "metadata": {
            "tags": []
          },
          "execution_count": 2
        }
      ]
    },
    {
      "cell_type": "code",
      "metadata": {
        "colab": {
          "base_uri": "https://localhost:8080/"
        },
        "id": "9HCckpR2BI2U",
        "outputId": "30d2ac02-1543-4ad3-cea7-1339f04b6bb2"
      },
      "source": [
        "cidades = [\"Recife\",\"Rio de Janeiro\",\"São Paulo\"]\n",
        "cidades.extend([\"Fortaleza\",\"Salvador\"]) # agrega novos valores a lista existente\n",
        "print(cidades)\n",
        "\n",
        "cidades.index(\"Salvador\") # verificando index do item\n",
        "cidades.insert(2, \"amapa\") # insere item na lista em uma posição escolhida obs: item \"amapa\" no index 2\n",
        "print(cidades)\n",
        "\n",
        "cidades.remove(\"Fortaleza\") #  remove itens da lista \n",
        "print(cidades)\n",
        "\n",
        "cidades.reverse() # inverte a lista\n",
        "print(cidades)\n",
        "\n",
        "cidades.sort() # ordena a lista\n",
        "print(cidades)"
      ],
      "execution_count": null,
      "outputs": [
        {
          "output_type": "stream",
          "text": [
            "['Recife', 'Rio de Janeiro', 'São Paulo', 'Fortaleza', 'Salvador']\n",
            "['Recife', 'Rio de Janeiro', 'amapa', 'São Paulo', 'Fortaleza', 'Salvador']\n",
            "['Recife', 'Rio de Janeiro', 'amapa', 'São Paulo', 'Salvador']\n",
            "['Salvador', 'São Paulo', 'amapa', 'Rio de Janeiro', 'Recife']\n",
            "['Recife', 'Rio de Janeiro', 'Salvador', 'São Paulo', 'amapa']\n"
          ],
          "name": "stdout"
        }
      ]
    }
  ]
}